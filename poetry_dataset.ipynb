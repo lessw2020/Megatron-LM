{
 "cells": [
  {
   "cell_type": "code",
   "execution_count": 2,
   "metadata": {},
   "outputs": [],
   "source": [
    "import torch"
   ]
  },
  {
   "cell_type": "code",
   "execution_count": 3,
   "metadata": {},
   "outputs": [
    {
     "data": {
      "text/plain": [
       "'2.0.0.dev20230228+cu117'"
      ]
     },
     "execution_count": 3,
     "metadata": {},
     "output_type": "execute_result"
    }
   ],
   "source": [
    "torch.__version__"
   ]
  },
  {
   "cell_type": "code",
   "execution_count": 4,
   "metadata": {},
   "outputs": [
    {
     "name": "stdout",
     "output_type": "stream",
     "text": [
      "  % Total    % Received % Xferd  Average Speed   Time    Time     Time  Current\n",
      "                                 Dload  Upload   Total   Spent    Left  Speed\n",
      "100 52.2M  100 52.2M    0     0  81.5M      0 --:--:-- --:--:-- --:--:-- 81.4M\n"
     ]
    }
   ],
   "source": [
    "!curl -O http://static.decontextualize.com/gutenberg-poetry-v001.ndjson.gz"
   ]
  },
  {
   "cell_type": "code",
   "execution_count": 44,
   "metadata": {},
   "outputs": [],
   "source": [
    "import jsonlines"
   ]
  },
  {
   "cell_type": "code",
   "execution_count": 50,
   "metadata": {},
   "outputs": [],
   "source": [
    "jlines = []"
   ]
  },
  {
   "cell_type": "code",
   "execution_count": 54,
   "metadata": {},
   "outputs": [
    {
     "name": "stdout",
     "output_type": "stream",
     "text": [
      "{'gid': '19', 'text': 'The Song of Hiawatha is based on the legends and stories of'}\n",
      "{'gid': '19', 'text': 'many North American Indian tribes, but especially those of the'}\n",
      "{'gid': '19', 'text': 'Ojibway Indians of northern Michigan, Wisconsin, and Minnesota.'}\n",
      "{'gid': '19', 'text': 'They were collected by Henry Rowe Schoolcraft, the reknowned'}\n",
      "{'gid': '19', 'text': 'Schoolcraft married Jane, O-bah-bahm-wawa-ge-zhe-go-qua (The'}\n",
      "{'gid': '19', 'text': 'fur trader, and O-shau-gus-coday-way-qua (The Woman of the Green'}\n",
      "{'gid': '19', 'text': 'Prairie), who was a daughter of Waub-o-jeeg (The White Fisher),'}\n",
      "{'gid': '19', 'text': 'who was Chief of the Ojibway tribe at La Pointe, Wisconsin.'}\n",
      "{'gid': '19', 'text': 'Jane and her mother are credited with having researched,'}\n",
      "{'gid': '19', 'text': 'authenticated, and compiled much of the material Schoolcraft'}\n",
      "{'gid': '19', 'text': 'included in his Algic Researches (1839) and a revision published'}\n",
      "{'gid': '19', 'text': 'in 1856 as The Myth of Hiawatha.  It was this latter revision'}\n",
      "{'gid': '19', 'text': 'that Longfellow used as the basis for The Song of Hiawatha.'}\n"
     ]
    }
   ],
   "source": [
    "with jsonlines.open('output_poems.json') as reader:\n",
    "    for i,obj in enumerate(reader):\n",
    "        print(obj)\n",
    "        if i>11:\n",
    "            break\n"
   ]
  },
  {
   "cell_type": "code",
   "execution_count": 52,
   "metadata": {},
   "outputs": [
    {
     "data": {
      "text/plain": [
       "{'gid': '19',\n",
       " 'text': 'They were collected by Henry Rowe Schoolcraft, the reknowned'}"
      ]
     },
     "execution_count": 52,
     "metadata": {},
     "output_type": "execute_result"
    }
   ],
   "source": [
    "jlines[3]"
   ]
  },
  {
   "cell_type": "code",
   "execution_count": 53,
   "metadata": {},
   "outputs": [],
   "source": [
    "with jsonlines.open('output_poems.json', mode='w') as writer:\n",
    "    for item in jlines:\n",
    "        writer.write(item)\n"
   ]
  },
  {
   "cell_type": "code",
   "execution_count": 38,
   "metadata": {},
   "outputs": [
    {
     "name": "stdout",
     "output_type": "stream",
     "text": [
      "b'{\"s\": \"The Song of Hiawatha is based on the legends and stories of\", \"gid\": \"19\"}\\n'\n",
      "b'{\"s\": \"many North American Indian tribes, but especially those of the\", \"gid\": \"19\"}\\n'\n",
      "b'{\"s\": \"Ojibway Indians of northern Michigan, Wisconsin, and Minnesota.\", \"gid\": \"19\"}\\n'\n",
      "b'{\"s\": \"They were collected by Henry Rowe Schoolcraft, the reknowned\", \"gid\": \"19\"}\\n'\n"
     ]
    }
   ],
   "source": [
    "import gzip, json\n",
    "all_lines = []\n",
    "ctr = 0\n",
    "for line in gzip.open(\"gutenberg-poetry-v001.ndjson.gz\"):\n",
    "    #all_lines.append(json.loads(line))\n",
    "    print(line)\n",
    "    ctr+=1\n",
    "    if ctr> 3:\n",
    "        break\n"
   ]
  },
  {
   "cell_type": "code",
   "execution_count": 43,
   "metadata": {},
   "outputs": [
    {
     "ename": "JSONDecodeError",
     "evalue": "Extra data: line 2 column 1 (char 82)",
     "output_type": "error",
     "traceback": [
      "\u001b[0;31m---------------------------------------------------------------------------\u001b[0m",
      "\u001b[0;31mJSONDecodeError\u001b[0m                           Traceback (most recent call last)",
      "Cell \u001b[0;32mIn[43], line 2\u001b[0m\n\u001b[1;32m      1\u001b[0m \u001b[39mwith\u001b[39;00m \u001b[39mopen\u001b[39m (\u001b[39m'\u001b[39m\u001b[39mgpoems_main.json\u001b[39m\u001b[39m'\u001b[39m) \u001b[39mas\u001b[39;00m read_file_json:\n\u001b[0;32m----> 2\u001b[0m     js \u001b[39m=\u001b[39m json\u001b[39m.\u001b[39;49mload(read_file_json)\n",
      "File \u001b[0;32m/opt/conda/envs/pytorch/lib/python3.9/json/__init__.py:293\u001b[0m, in \u001b[0;36mload\u001b[0;34m(fp, cls, object_hook, parse_float, parse_int, parse_constant, object_pairs_hook, **kw)\u001b[0m\n\u001b[1;32m    274\u001b[0m \u001b[39mdef\u001b[39;00m \u001b[39mload\u001b[39m(fp, \u001b[39m*\u001b[39m, \u001b[39mcls\u001b[39m\u001b[39m=\u001b[39m\u001b[39mNone\u001b[39;00m, object_hook\u001b[39m=\u001b[39m\u001b[39mNone\u001b[39;00m, parse_float\u001b[39m=\u001b[39m\u001b[39mNone\u001b[39;00m,\n\u001b[1;32m    275\u001b[0m         parse_int\u001b[39m=\u001b[39m\u001b[39mNone\u001b[39;00m, parse_constant\u001b[39m=\u001b[39m\u001b[39mNone\u001b[39;00m, object_pairs_hook\u001b[39m=\u001b[39m\u001b[39mNone\u001b[39;00m, \u001b[39m*\u001b[39m\u001b[39m*\u001b[39mkw):\n\u001b[1;32m    276\u001b[0m \u001b[39m    \u001b[39m\u001b[39m\"\"\"Deserialize ``fp`` (a ``.read()``-supporting file-like object containing\u001b[39;00m\n\u001b[1;32m    277\u001b[0m \u001b[39m    a JSON document) to a Python object.\u001b[39;00m\n\u001b[1;32m    278\u001b[0m \n\u001b[0;32m   (...)\u001b[0m\n\u001b[1;32m    291\u001b[0m \u001b[39m    kwarg; otherwise ``JSONDecoder`` is used.\u001b[39;00m\n\u001b[1;32m    292\u001b[0m \u001b[39m    \"\"\"\u001b[39;00m\n\u001b[0;32m--> 293\u001b[0m     \u001b[39mreturn\u001b[39;00m loads(fp\u001b[39m.\u001b[39;49mread(),\n\u001b[1;32m    294\u001b[0m         \u001b[39mcls\u001b[39;49m\u001b[39m=\u001b[39;49m\u001b[39mcls\u001b[39;49m, object_hook\u001b[39m=\u001b[39;49mobject_hook,\n\u001b[1;32m    295\u001b[0m         parse_float\u001b[39m=\u001b[39;49mparse_float, parse_int\u001b[39m=\u001b[39;49mparse_int,\n\u001b[1;32m    296\u001b[0m         parse_constant\u001b[39m=\u001b[39;49mparse_constant, object_pairs_hook\u001b[39m=\u001b[39;49mobject_pairs_hook, \u001b[39m*\u001b[39;49m\u001b[39m*\u001b[39;49mkw)\n",
      "File \u001b[0;32m/opt/conda/envs/pytorch/lib/python3.9/json/__init__.py:346\u001b[0m, in \u001b[0;36mloads\u001b[0;34m(s, cls, object_hook, parse_float, parse_int, parse_constant, object_pairs_hook, **kw)\u001b[0m\n\u001b[1;32m    341\u001b[0m     s \u001b[39m=\u001b[39m s\u001b[39m.\u001b[39mdecode(detect_encoding(s), \u001b[39m'\u001b[39m\u001b[39msurrogatepass\u001b[39m\u001b[39m'\u001b[39m)\n\u001b[1;32m    343\u001b[0m \u001b[39mif\u001b[39;00m (\u001b[39mcls\u001b[39m \u001b[39mis\u001b[39;00m \u001b[39mNone\u001b[39;00m \u001b[39mand\u001b[39;00m object_hook \u001b[39mis\u001b[39;00m \u001b[39mNone\u001b[39;00m \u001b[39mand\u001b[39;00m\n\u001b[1;32m    344\u001b[0m         parse_int \u001b[39mis\u001b[39;00m \u001b[39mNone\u001b[39;00m \u001b[39mand\u001b[39;00m parse_float \u001b[39mis\u001b[39;00m \u001b[39mNone\u001b[39;00m \u001b[39mand\u001b[39;00m\n\u001b[1;32m    345\u001b[0m         parse_constant \u001b[39mis\u001b[39;00m \u001b[39mNone\u001b[39;00m \u001b[39mand\u001b[39;00m object_pairs_hook \u001b[39mis\u001b[39;00m \u001b[39mNone\u001b[39;00m \u001b[39mand\u001b[39;00m \u001b[39mnot\u001b[39;00m kw):\n\u001b[0;32m--> 346\u001b[0m     \u001b[39mreturn\u001b[39;00m _default_decoder\u001b[39m.\u001b[39;49mdecode(s)\n\u001b[1;32m    347\u001b[0m \u001b[39mif\u001b[39;00m \u001b[39mcls\u001b[39m \u001b[39mis\u001b[39;00m \u001b[39mNone\u001b[39;00m:\n\u001b[1;32m    348\u001b[0m     \u001b[39mcls\u001b[39m \u001b[39m=\u001b[39m JSONDecoder\n",
      "File \u001b[0;32m/opt/conda/envs/pytorch/lib/python3.9/json/decoder.py:340\u001b[0m, in \u001b[0;36mJSONDecoder.decode\u001b[0;34m(self, s, _w)\u001b[0m\n\u001b[1;32m    338\u001b[0m end \u001b[39m=\u001b[39m _w(s, end)\u001b[39m.\u001b[39mend()\n\u001b[1;32m    339\u001b[0m \u001b[39mif\u001b[39;00m end \u001b[39m!=\u001b[39m \u001b[39mlen\u001b[39m(s):\n\u001b[0;32m--> 340\u001b[0m     \u001b[39mraise\u001b[39;00m JSONDecodeError(\u001b[39m\"\u001b[39m\u001b[39mExtra data\u001b[39m\u001b[39m\"\u001b[39m, s, end)\n\u001b[1;32m    341\u001b[0m \u001b[39mreturn\u001b[39;00m obj\n",
      "\u001b[0;31mJSONDecodeError\u001b[0m: Extra data: line 2 column 1 (char 82)"
     ]
    }
   ],
   "source": [
    "with open ('gpoems_main.json') as read_file_json:\n",
    "    js = json.load(read_file_json)\n",
    "    \n"
   ]
  },
  {
   "cell_type": "code",
   "execution_count": 40,
   "metadata": {},
   "outputs": [],
   "source": [
    "!gunzip gutenberg-poetry-v001.ndjson.gz"
   ]
  },
  {
   "cell_type": "code",
   "execution_count": 32,
   "metadata": {},
   "outputs": [],
   "source": [
    "test = all_lines[0:2]"
   ]
  },
  {
   "cell_type": "code",
   "execution_count": 33,
   "metadata": {},
   "outputs": [
    {
     "data": {
      "text/plain": [
       "[{'s': 'The Song of Hiawatha is based on the legends and stories of',\n",
       "  'gid': '19'},\n",
       " {'s': 'many North American Indian tribes, but especially those of the',\n",
       "  'gid': '19'}]"
      ]
     },
     "execution_count": 33,
     "metadata": {},
     "output_type": "execute_result"
    }
   ],
   "source": [
    "test"
   ]
  },
  {
   "cell_type": "code",
   "execution_count": 34,
   "metadata": {},
   "outputs": [],
   "source": [
    "import collections\n",
    "ds = collections.defaultdict(dict)\n",
    "\n",
    "for i, line in enumerate(all_lines):\n",
    "    line['text'] = line.pop('s')\n",
    "    \n",
    "    \n",
    "    \n",
    "\n"
   ]
  },
  {
   "cell_type": "code",
   "execution_count": 35,
   "metadata": {},
   "outputs": [
    {
     "data": {
      "text/plain": [
       "[{'gid': '19',\n",
       "  'text': 'The Song of Hiawatha is based on the legends and stories of'},\n",
       " {'gid': '19',\n",
       "  'text': 'many North American Indian tribes, but especially those of the'},\n",
       " {'gid': '19',\n",
       "  'text': 'Ojibway Indians of northern Michigan, Wisconsin, and Minnesota.'}]"
      ]
     },
     "execution_count": 35,
     "metadata": {},
     "output_type": "execute_result"
    }
   ],
   "source": [
    "all_lines[0:3]"
   ]
  },
  {
   "cell_type": "code",
   "execution_count": 36,
   "metadata": {},
   "outputs": [],
   "source": [
    "file = open('gpoems2.json', 'r')\n",
    "json.load(all_lines, file)\n",
    "file.close()\n"
   ]
  },
  {
   "cell_type": "code",
   "execution_count": null,
   "metadata": {},
   "outputs": [],
   "source": []
  },
  {
   "cell_type": "code",
   "execution_count": 6,
   "metadata": {},
   "outputs": [],
   "source": [
    "import random\n"
   ]
  },
  {
   "cell_type": "code",
   "execution_count": 7,
   "metadata": {},
   "outputs": [
    {
     "data": {
      "text/plain": [
       "[{'s': 'A yet more fearful peril, worse bested:', 'gid': '615'},\n",
       " {'s': 'And as one shifts, another straight ensues:', 'gid': '1505'},\n",
       " {'s': 'May our brave foes rise in defeat', 'gid': '24605'},\n",
       " {'s': 'Then let your schemes alone, in the state, in the state,',\n",
       "  'gid': '1279'},\n",
       " {'s': 'And all must pay the same, or soon or late', 'gid': '37649'},\n",
       " {'s': 'And what device has proved the dubious', 'gid': '785'},\n",
       " {'s': 'And viewed at leisure every lord and knight;', 'gid': '392'},\n",
       " {'s': \"To make but one, and that's thyself, admir'd.\", 'gid': '22421'},\n",
       " {'s': 'That your virginal glory', 'gid': '37845'},\n",
       " {'s': \"An' then you are like to be wrong.\", 'gid': '323'},\n",
       " {'s': \"Kullervo, Kalervo's offspring,\", 'gid': '33089'}]"
      ]
     },
     "execution_count": 7,
     "metadata": {},
     "output_type": "execute_result"
    }
   ],
   "source": [
    "random.sample(all_lines, 11)\n"
   ]
  },
  {
   "cell_type": "code",
   "execution_count": 8,
   "metadata": {},
   "outputs": [
    {
     "name": "stdout",
     "output_type": "stream",
     "text": [
      "--2023-03-07 01:48:33--  https://s3.amazonaws.com/models.huggingface.co/bert/gpt2-vocab.json\n",
      "Resolving s3.amazonaws.com (s3.amazonaws.com)... 3.5.19.161, 52.216.213.0, 52.216.54.48, ...\n",
      "Connecting to s3.amazonaws.com (s3.amazonaws.com)|3.5.19.161|:443... connected.\n",
      "HTTP request sent, awaiting response... 200 OK\n",
      "Length: 1042301 (1018K) [application/json]\n",
      "Saving to: ‘gpt2-vocab.json’\n",
      "\n",
      "gpt2-vocab.json     100%[===================>]   1018K  --.-KB/s    in 0.006s  \n",
      "\n",
      "2023-03-07 01:48:33 (154 MB/s) - ‘gpt2-vocab.json’ saved [1042301/1042301]\n",
      "\n"
     ]
    }
   ],
   "source": [
    "!wget https://s3.amazonaws.com/models.huggingface.co/bert/gpt2-vocab.json\n"
   ]
  },
  {
   "cell_type": "code",
   "execution_count": 9,
   "metadata": {},
   "outputs": [
    {
     "name": "stdout",
     "output_type": "stream",
     "text": [
      "--2023-03-07 01:48:52--  https://s3.amazonaws.com/models.huggingface.co/bert/gpt2-merges.txt\n",
      "Resolving s3.amazonaws.com (s3.amazonaws.com)... 52.216.240.94, 52.217.160.232, 52.217.113.192, ...\n",
      "Connecting to s3.amazonaws.com (s3.amazonaws.com)|52.216.240.94|:443... connected.\n",
      "HTTP request sent, awaiting response... 200 OK\n",
      "Length: 456318 (446K) [text/plain]\n",
      "Saving to: ‘gpt2-merges.txt’\n",
      "\n",
      "gpt2-merges.txt     100%[===================>] 445.62K  --.-KB/s    in 0.005s  \n",
      "\n",
      "2023-03-07 01:48:52 (79.4 MB/s) - ‘gpt2-merges.txt’ saved [456318/456318]\n",
      "\n"
     ]
    }
   ],
   "source": [
    "!wget https://s3.amazonaws.com/models.huggingface.co/bert/gpt2-merges.txt"
   ]
  },
  {
   "cell_type": "code",
   "execution_count": null,
   "metadata": {},
   "outputs": [],
   "source": []
  }
 ],
 "metadata": {
  "kernelspec": {
   "display_name": "pytorch",
   "language": "python",
   "name": "python3"
  },
  "language_info": {
   "codemirror_mode": {
    "name": "ipython",
    "version": 3
   },
   "file_extension": ".py",
   "mimetype": "text/x-python",
   "name": "python",
   "nbconvert_exporter": "python",
   "pygments_lexer": "ipython3",
   "version": "3.9.16"
  },
  "orig_nbformat": 4,
  "vscode": {
   "interpreter": {
    "hash": "2d58e898dde0263bc564c6968b04150abacfd33eed9b19aaa8e45c040360e146"
   }
  }
 },
 "nbformat": 4,
 "nbformat_minor": 2
}
